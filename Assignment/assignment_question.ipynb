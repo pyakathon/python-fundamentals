{
 "cells": [
  {
   "cell_type": "markdown",
   "metadata": {},
   "source": [
    "# Lesson 1.2: Python Basics\n",
    "## Topics Covered:\n",
    "- Syntax and Semantics\n",
    "- Variables and Data Types\n",
    "- Basic Operators (Arithmetic, Comparison, Logical)\n"
   ]
  },
  {
   "cell_type": "markdown",
   "metadata": {},
   "source": [
    "## 1. Syntax and Semantics\n",
    "\n",
    "**Question 1:** Write a Python program to print \"Hello, World!\"."
   ]
  },
  {
   "cell_type": "code",
   "execution_count": 1,
   "metadata": {},
   "outputs": [
    {
     "name": "stdout",
     "output_type": "stream",
     "text": [
      "Hello, World!\n"
     ]
    }
   ],
   "source": [
    "# Your code here\n",
    "print(\"Hello, World!\")"
   ]
  },
  {
   "cell_type": "markdown",
   "metadata": {},
   "source": [
    "**Question 2:** Write a Python program that takes a user input and prints it."
   ]
  },
  {
   "cell_type": "code",
   "execution_count": 2,
   "metadata": {},
   "outputs": [
    {
     "name": "stdout",
     "output_type": "stream",
     "text": [
      "Hello, Robin Jamal!\n"
     ]
    }
   ],
   "source": [
    "# Your code here\n",
    "name = str(input(\"Enter your full name: \"))\n",
    "print(\"Hello, \" + name + \"!\")"
   ]
  },
  {
   "cell_type": "markdown",
   "metadata": {},
   "source": [
    "**Question 3:** Write a Python program to check if a number is positive, negative, or zero."
   ]
  },
  {
   "cell_type": "code",
   "execution_count": 3,
   "metadata": {},
   "outputs": [
    {
     "name": "stdout",
     "output_type": "stream",
     "text": [
      "The number 4 is positive.\n"
     ]
    }
   ],
   "source": [
    "# Your code here\n",
    "num = int(input(\"Enter a number: \"))\n",
    "if num == 0:\n",
    "    print(f\"The number {num} is zero.\")\n",
    "elif num > 0:\n",
    "    print(f\"The number {num} is positive.\")\n",
    "else:\n",
    "    print(f\"The number {num} is negative.\")"
   ]
  },
  {
   "cell_type": "markdown",
   "metadata": {},
   "source": [
    "**Question 4:** Write a Python program to find the largest of three numbers."
   ]
  },
  {
   "cell_type": "code",
   "execution_count": 4,
   "metadata": {},
   "outputs": [
    {
     "name": "stdout",
     "output_type": "stream",
     "text": [
      "The largest number is 6.\n"
     ]
    }
   ],
   "source": [
    "# Your code here\n",
    "number = int(input(\"Enter a number: \"))\n",
    "number2 = int(input(\"Enter another number: \"))\n",
    "number3 = int(input(\"Enter one last number: \"))\n",
    "\n",
    "if number >= number2 and number >= number3:\n",
    "    largest = number\n",
    "elif number2 >= number and number2 >= number3:\n",
    "    largest = number2   \n",
    "else:\n",
    "    largest = number3\n",
    "\n",
    "print(f\"The largest number is {largest}.\")"
   ]
  },
  {
   "cell_type": "markdown",
   "metadata": {},
   "source": [
    "**Question 5:** Write a Python program to calculate the factorial of a number."
   ]
  },
  {
   "cell_type": "code",
   "execution_count": 5,
   "metadata": {},
   "outputs": [
    {
     "name": "stdout",
     "output_type": "stream",
     "text": [
      "The factorial of 4 is 24.\n"
     ]
    }
   ],
   "source": [
    "# Your code here\n",
    "def factorial(n):\n",
    "    if n == 0 or n == 1:\n",
    "        return 1\n",
    "    else:\n",
    "        return n * factorial(n-1)\n",
    "num = int(input(\"Enter a number to compute its factorial: \"))\n",
    "result = factorial(num)\n",
    "print(f\"The factorial of {num} is {result}.\")\n"
   ]
  },
  {
   "cell_type": "markdown",
   "metadata": {},
   "source": [
    "## 2. Variables and Data Types\n",
    "\n",
    "**Question 6:** Create variables of different data types: integer, float, string, and boolean. Print their values and types."
   ]
  },
  {
   "cell_type": "code",
   "execution_count": 6,
   "metadata": {},
   "outputs": [
    {
     "name": "stdout",
     "output_type": "stream",
     "text": [
      "Name: Robin Jamal\n",
      "<class 'str'>\n",
      "Age: 25\n",
      "<class 'int'>\n",
      "Height: 6.1\n",
      "<class 'float'>\n",
      "Student: True\n",
      "<class 'bool'>\n"
     ]
    }
   ],
   "source": [
    "# Your code here\n",
    "name = \"Robin Jamal\"\n",
    "print(\"Name:\", name)\n",
    "print(type(name))\n",
    "age = 25\n",
    "print(\"Age:\", age)\n",
    "print(type(age))\n",
    "height = 6.1\n",
    "print(\"Height:\", height)\n",
    "print(type(height))\n",
    "is_student = True\n",
    "print(\"Student:\", is_student)\n",
    "print(type(is_student))\n"
   ]
  },
  {
   "cell_type": "markdown",
   "metadata": {},
   "source": [
    "**Question 7:** Write a Python program to swap the values of two variables."
   ]
  },
  {
   "cell_type": "code",
   "execution_count": 7,
   "metadata": {},
   "outputs": [
    {
     "name": "stdout",
     "output_type": "stream",
     "text": [
      "Name: Alice <class 'str'>\n",
      "Age: 30.0 <class 'float'>\n"
     ]
    }
   ],
   "source": [
    "# Your code here\n",
    "name = \"Alice\"\n",
    "age = 30\n",
    "height = 5.5\n",
    "is_student = False\n",
    "# Convert to appropriate types\n",
    "height = int(height)\n",
    "age = float(age)\n",
    "is_student = str(is_student)\n",
    "\n",
    "print(\"Name:\", name, type(name))\n",
    "print(\"Age:\", age, type(age))"
   ]
  },
  {
   "cell_type": "markdown",
   "metadata": {},
   "source": [
    "**Question 8:** Write a Python program to convert Celsius to Fahrenheit."
   ]
  },
  {
   "cell_type": "code",
   "execution_count": 8,
   "metadata": {},
   "outputs": [
    {
     "name": "stdout",
     "output_type": "stream",
     "text": [
      "The temperature in Farenheit is 102.2°F\n"
     ]
    }
   ],
   "source": [
    "# Your code here\n",
    "\n",
    "temp = int(input(\"Enter temperature in Celsius: \"))\n",
    "farenheit = (temp * 9/5) + 32\n",
    "print(f\"The temperature in Farenheit is {farenheit}°F\")"
   ]
  },
  {
   "cell_type": "markdown",
   "metadata": {},
   "source": [
    "**Question 9:** Write a Python program to concatenate two strings."
   ]
  },
  {
   "cell_type": "code",
   "execution_count": 9,
   "metadata": {},
   "outputs": [
    {
     "name": "stdout",
     "output_type": "stream",
     "text": [
      "Full Name: Robin Jamal\n"
     ]
    }
   ],
   "source": [
    "# Your code here\n",
    "first_name = input(\"Enter your first name: \")\n",
    "last_name = input(\"Enter your last name: \")\n",
    "full_name = first_name + \" \" + last_name\n",
    "print(\"Full Name:\", full_name)"
   ]
  },
  {
   "cell_type": "markdown",
   "metadata": {},
   "source": [
    "**Question 10:** Write a Python program to check if a variable is of a specific data type."
   ]
  },
  {
   "cell_type": "code",
   "execution_count": 10,
   "metadata": {},
   "outputs": [
    {
     "name": "stdout",
     "output_type": "stream",
     "text": [
      "The value 30.5 is a float.\n",
      "The age 20 is an integer.\n",
      "The character True is a boolean.\n"
     ]
    }
   ],
   "source": [
    "# Your code here\n",
    "value = 30.5\n",
    "if isinstance(value, float):\n",
    "    print(f\"The value {value} is a float.\")\n",
    "else:  \n",
    "    print(f\"The value {value} is not a float.\")\n",
    "\n",
    "age = 20\n",
    "if isinstance(age, int):\n",
    "    print(f\"The age {age} is an integer.\")\n",
    "else:  \n",
    "    print(f\"The age {age} is not an integer.\")\n",
    "\n",
    "honest = True\n",
    "if isinstance(honest, bool):\n",
    "    print(f\"The character {honest} is a boolean.\")\n",
    "else:  \n",
    "    print(f\"The character {honest} is not a boolean.\")\n",
    "    "
   ]
  },
  {
   "cell_type": "markdown",
   "metadata": {},
   "source": [
    "## 3. Basic Operators (Arithmetic, Comparison, Logical)\n",
    "\n",
    "**Question 11:** Write a Python program to perform arithmetic operations: addition, subtraction, multiplication, and division."
   ]
  },
  {
   "cell_type": "code",
   "execution_count": 11,
   "metadata": {},
   "outputs": [
    {
     "name": "stdout",
     "output_type": "stream",
     "text": [
      "The result of 5 ** 5 is 3125.\n"
     ]
    }
   ],
   "source": [
    "# Your code here\n",
    "num1 = int(input(\"Enter first number: \"))\n",
    "num2 = int(input(\"Enter second number: \"))\n",
    "operration = input(\"Enter operation (+, -, *, /, //, %, **):\")\n",
    "\n",
    "if operration == '+':\n",
    "    result = num1 + num2\n",
    "    print(f\"The result of {num1} + {num2} is {result}.\")\n",
    "elif operration == \"-\":\n",
    "    result = num1 - num2\n",
    "    print(f\"The result of {num1} - {num2} is {result}.\")\n",
    "elif operration == \"*\":\n",
    "    result = num1 * num2\n",
    "    print(f\"The result of {num1} * {num2} is {result}.\")\n",
    "elif operration == \"/\":\n",
    "    result = num1 / num2\n",
    "    if num2 == 0:\n",
    "        print(\"Error: Division by zero is not allowed.\")\n",
    "    print(f\"The result of {num1} / {num2} is {result}.\")\n",
    "elif operration == \"//\": # Floor Division it will round down the result to the nearest integer\n",
    "    result = num1 // num2\n",
    "    print(f\"The result of {num1} // {num2} is {result}.\")\n",
    "elif operration == \"%\": # Modulus it will return the remainder of the division\n",
    "    result = num1 % num2\n",
    "    print(f\"The result of {num1} % {num2} is {result}.\")\n",
    "elif operration == \"**\": # Exponentiation it will return the power of the number\n",
    "    result = num1 ** num2\n",
    "    print(f\"The result of {num1} ** {num2} is {result}.\")\n",
    "else:\n",
    "    print(\"Invalid operation.\")"
   ]
  },
  {
   "cell_type": "markdown",
   "metadata": {},
   "source": [
    "**Question 12:** Write a Python program to demonstrate comparison operators: equal to, not equal to, greater than, less than."
   ]
  },
  {
   "cell_type": "code",
   "execution_count": 12,
   "metadata": {},
   "outputs": [
    {
     "name": "stdout",
     "output_type": "stream",
     "text": [
      "The names are not identical.\n",
      "The numbers 10 and 20 are not equal.\n",
      "num > num2: False\n",
      "num < num2: True\n",
      "num >= num2: False\n",
      "num <= num2: True\n",
      "num == num2: False\n"
     ]
    }
   ],
   "source": [
    "# Your code here\n",
    "\n",
    "name = \"Alice\"\n",
    "name2 = \"alice\"\n",
    "\n",
    "if name == name2:\n",
    "    print(\"The names are identical.\")\n",
    "else: \n",
    "    print(\"The names are not identical.\")\n",
    "\n",
    "num = 10\n",
    "num2 = 20\n",
    "\n",
    "if num != num2:\n",
    "    print(f\"The numbers {num} and {num2} are not equal.\")\n",
    "else: \n",
    "    print(f\"The numbers {num} and {num2} are equal.\")\n",
    "\n",
    "print(f\"num > num2: {num > num2}\")\n",
    "print(f\"num < num2: {num < num2}\")\n",
    "print(f\"num >= num2: {num >= num2}\")\n",
    "print(f\"num <= num2: {num <= num2}\")\n",
    "print(f\"num == num2: {num == num2}\")"
   ]
  },
  {
   "cell_type": "markdown",
   "metadata": {},
   "source": [
    "**Question 13:** Write a Python program to demonstrate logical operators: and, or, not."
   ]
  },
  {
   "cell_type": "code",
   "execution_count": 13,
   "metadata": {},
   "outputs": [
    {
     "name": "stdout",
     "output_type": "stream",
     "text": [
      "a and b: False\n",
      "a or b: True\n",
      "not a: False\n"
     ]
    }
   ],
   "source": [
    "# Your code here\n",
    "a = True\n",
    "b = False\n",
    "print(f\"a and b: {a and b}\") # Logical AND\n",
    "print(f\"a or b: {a or b}\")   # Logical OR\n",
    "print(f\"not a: {not a}\")     # Logical NOT"
   ]
  },
  {
   "cell_type": "markdown",
   "metadata": {},
   "source": [
    "**Question 14:** Write a Python program to calculate the square of a number."
   ]
  },
  {
   "cell_type": "code",
   "execution_count": 14,
   "metadata": {},
   "outputs": [
    {
     "name": "stdout",
     "output_type": "stream",
     "text": [
      "The square of 100 is 10000.\n"
     ]
    }
   ],
   "source": [
    "# Your code here\n",
    "num = int(input(\"Enter a number: \"))\n",
    "\n",
    "def square(num):\n",
    "    return num * num\n",
    "print(f\"The square of {num} is {square(num)}.\")"
   ]
  },
  {
   "cell_type": "markdown",
   "metadata": {},
   "source": [
    "**Question 15:** Write a Python program to check if a number is even or odd."
   ]
  },
  {
   "cell_type": "code",
   "execution_count": 15,
   "metadata": {},
   "outputs": [
    {
     "name": "stdout",
     "output_type": "stream",
     "text": [
      "The number 2 is even.\n"
     ]
    }
   ],
   "source": [
    "# Your code here\n",
    "num = int(input(\"Enter a number: \"))\n",
    "if num % 2 == 0:    \n",
    "    print(f\"The number {num} is even.\")\n",
    "else:\n",
    "    print(f\"The number {num} is odd.\")"
   ]
  },
  {
   "cell_type": "markdown",
   "metadata": {},
   "source": [
    "**Question 16:** Write a Python program to find the sum of the first n natural numbers."
   ]
  },
  {
   "cell_type": "code",
   "execution_count": 16,
   "metadata": {},
   "outputs": [
    {
     "name": "stdout",
     "output_type": "stream",
     "text": [
      "The sum of all numbers from 1 to 200 is 20100.\n"
     ]
    }
   ],
   "source": [
    "# Your code here\n",
    "number = int(input(\"Enter a number: \"))\n",
    "sum_of_numbers  = (number * (number + 1)) // 2\n",
    "print(f\"The sum of all numbers from 1 to {number} is {sum_of_numbers}.\")"
   ]
  },
  {
   "cell_type": "markdown",
   "metadata": {},
   "source": [
    "**Question 17:** Write a Python program to check if a year is a leap year."
   ]
  },
  {
   "cell_type": "code",
   "execution_count": 17,
   "metadata": {},
   "outputs": [
    {
     "name": "stdout",
     "output_type": "stream",
     "text": [
      "The year 2026 is not a leap year.\n"
     ]
    }
   ],
   "source": [
    "# Your code here\n",
    "year = int(input(\"Enter a year: \"))\n",
    "if (year % 4 == 0 and year % 100 != 0) or (year % 400 == 0):\n",
    "    print(f\"The year {year} is a leap year.\")\n",
    "else:\n",
    "    print(f\"The year {year} is not a leap year.\")"
   ]
  },
  {
   "cell_type": "markdown",
   "metadata": {},
   "source": [
    "**Question 18:** Write a Python program to reverse a string."
   ]
  },
  {
   "cell_type": "code",
   "execution_count": 18,
   "metadata": {},
   "outputs": [
    {
     "name": "stdout",
     "output_type": "stream",
     "text": [
      "The reversed name is: lamaJ niboR\n"
     ]
    }
   ],
   "source": [
    "# Your code here\n",
    "name = str(input(\"Enter your name: \"))\n",
    "reversed_name = name [::-1]\n",
    "print(f\"The reversed name is: {reversed_name}\")"
   ]
  },
  {
   "cell_type": "markdown",
   "metadata": {},
   "source": [
    "**Question 19:** Write a Python program to check if a string is a palindrome."
   ]
  },
  {
   "cell_type": "code",
   "execution_count": 19,
   "metadata": {},
   "outputs": [
    {
     "name": "stdout",
     "output_type": "stream",
     "text": [
      "The string 'Robin' is not a palindrome.\n"
     ]
    }
   ],
   "source": [
    "# Your code here\n",
    "palin_str = str(input(\"Enter a string: \"))\n",
    "if palin_str == palin_str[::-1]:\n",
    "    print(f\"The string '{palin_str}' is a palindrome.\")\n",
    "else:\n",
    "    print(f\"The string '{palin_str}' is not a palindrome.\")"
   ]
  },
  {
   "cell_type": "markdown",
   "metadata": {},
   "source": [
    "**Question 20:** Write a Python program to sort a list of numbers in ascending order."
   ]
  },
  {
   "cell_type": "code",
   "execution_count": 20,
   "metadata": {},
   "outputs": [
    {
     "name": "stdout",
     "output_type": "stream",
     "text": [
      "The sorted list is [10, 25, 30, 35, 50, 60, 70, 80, 90, 100]\n"
     ]
    }
   ],
   "source": [
    "# Your code here\n",
    "numbers = [30, 100, 35, 70, 25, 90, 10, 50, 80, 60]\n",
    "numbers.sort()\n",
    "print(f\"The sorted list is {numbers}\")"
   ]
  }
 ],
 "metadata": {
  "kernelspec": {
   "display_name": "Python 3",
   "language": "python",
   "name": "python3"
  },
  "language_info": {
   "codemirror_mode": {
    "name": "ipython",
    "version": 3
   },
   "file_extension": ".py",
   "mimetype": "text/x-python",
   "name": "python",
   "nbconvert_exporter": "python",
   "pygments_lexer": "ipython3",
   "version": "3.13.5"
  }
 },
 "nbformat": 4,
 "nbformat_minor": 4
}
