{
 "cells": [
  {
   "cell_type": "markdown",
   "id": "71c79054",
   "metadata": {},
   "source": [
    "## Welcome Robin to the Python World"
   ]
  },
  {
   "cell_type": "markdown",
   "id": "e682328a",
   "metadata": {},
   "source": [
    "# Python Basic Syntax and Semantics"
   ]
  },
  {
   "cell_type": "markdown",
   "id": "9610f728",
   "metadata": {},
   "source": []
  },
  {
   "cell_type": "code",
   "execution_count": 7,
   "id": "abc48fc9",
   "metadata": {},
   "outputs": [
    {
     "data": {
      "text/plain": [
       "' This is a multi-line comment\\nMy name is Robin Jamal\\nI am a Data Analyst\\nI\\'m learning Python\\nprint(\"Python is fun!\")'"
      ]
     },
     "execution_count": 7,
     "metadata": {},
     "output_type": "execute_result"
    }
   ],
   "source": [
    "## This is a single line comment\n",
    "''' This is a multi-line comment\n",
    "My name is Robin Jamal\n",
    "I am a Data Analyst\n",
    "I'm learning Python\n",
    "print(\"Python is fun!\")'''"
   ]
  },
  {
   "cell_type": "code",
   "execution_count": 9,
   "id": "5d7ed242",
   "metadata": {},
   "outputs": [
    {
     "name": "stdout",
     "output_type": "stream",
     "text": [
      "10\n",
      "Hello\n",
      "<class 'int'>\n",
      "<class 'str'>\n"
     ]
    }
   ],
   "source": [
    "## Python is case sensitive\n",
    "variable = 10\n",
    "Variable = \"Hello\"\n",
    "print(variable)  # Output: 10\n",
    "print(Variable)  # Output: Hello\n",
    "print(type(variable))  # Output: <class 'int'>\n",
    "print(type(Variable))  # Output: <class 'str'>"
   ]
  },
  {
   "cell_type": "code",
   "execution_count": null,
   "id": "46bd5527",
   "metadata": {},
   "outputs": [
    {
     "name": "stdout",
     "output_type": "stream",
     "text": [
      "You are a minor\n",
      "You are not eligible for voting\n",
      "Please find your nearest polling station\n",
      "You are a fucked off old fella\n",
      "Forget about Marrying a Girl cause you don't have teka poisha\n"
     ]
    }
   ],
   "source": [
    "## Indentation in Python\n",
    "## In python indentation is very important and it is used to define the scope of loops, functions, classes, etc. It is mainly used to define the block of code.\n",
    "age = 17\n",
    "if age>= 18: ## This is a conditional statement and if condition is true then it will execute the block of code inside the if statement\n",
    "    print(\"You are an adult\")\n",
    "else:\n",
    "    print(\"You are a minor\")\n",
    "    print(\"You are not eligible for voting\")\n",
    "\n",
    "print(\"Please find your nearest polling station\")\n",
    "\n",
    "age = 27\n",
    "if age>= 27:\n",
    "    print(\"You are a fucked off old fella\")\n",
    "else:\n",
    "    print(\"You are a young fella\")\n",
    "    print(\"Go fuck yourself\")\n",
    "    \n",
    "print(\"Forget about Marrying a Girl cause you don't have teka poisha\")"
   ]
  },
  {
   "cell_type": "code",
   "execution_count": 60,
   "id": "f621a96f",
   "metadata": {},
   "outputs": [
    {
     "name": "stdout",
     "output_type": "stream",
     "text": [
      "240\n",
      "My name is Robin Jamal. I'm 25 years old. & You are not my friend.\n"
     ]
    }
   ],
   "source": [
    "## Line Continuation\n",
    "multiplication = 1*2*3*4*5*\\\n",
    "2\n",
    "print(multiplication) \n",
    "\n",
    "name = \"My name is Robin Jamal.\"\" \" \"I'm 25 years old.\" \" \"\"&\" \\\n",
    "\" \"\"You are not my friend.\"\n",
    "print(name)"
   ]
  },
  {
   "cell_type": "code",
   "execution_count": 53,
   "id": "1759234d",
   "metadata": {},
   "outputs": [
    {
     "name": "stdout",
     "output_type": "stream",
     "text": [
      "30\n",
      "Md Robin Jamal\n",
      "<class 'str'>\n"
     ]
    }
   ],
   "source": [
    "x=5; y=6; z=(x*y) ## That's a multiple statement we can excute in python\n",
    "print(z)\n",
    "first_name=\"Md Robin \"; surname=\"Jamal\"; full_name= first_name + surname\n",
    "print(full_name)\n",
    "print(type(full_name))"
   ]
  },
  {
   "cell_type": "code",
   "execution_count": 55,
   "id": "9017b6dc",
   "metadata": {},
   "outputs": [
    {
     "name": "stdout",
     "output_type": "stream",
     "text": [
      "<class 'int'>\n",
      "<class 'str'>\n",
      "<class 'float'>\n"
     ]
    }
   ],
   "source": [
    "# Type Inference\n",
    "variable = 10\n",
    "print(type(variable))\n",
    "variable = \"Name\"\n",
    "print(type(variable))\n",
    "variable = 10.5\n",
    "print(type(variable))"
   ]
  },
  {
   "cell_type": "markdown",
   "id": "63793fc7",
   "metadata": {},
   "source": [
    "## Declaring and Assigning Variables"
   ]
  },
  {
   "cell_type": "code",
   "execution_count": 58,
   "id": "32fcc6f2",
   "metadata": {},
   "outputs": [
    {
     "name": "stdout",
     "output_type": "stream",
     "text": [
      "Name: Md Robin Jamal\n",
      "Age: 25\n",
      "Height: 6\n",
      "Profession: Student\n",
      "Country: Bangladesh\n"
     ]
    }
   ],
   "source": [
    "name = \"Md Robin Jamal\"\n",
    "age = 25\n",
    "height = 6\n",
    "profession = \"Student\"\n",
    "country = \"Bangladesh\"\n",
    "print(\"Name:\",name)\n",
    "print(\"Age:\",age)\n",
    "print(\"Height:\",height)\n",
    "print(\"Profession:\",profession)\n",
    "print(\"Country:\",country)\n"
   ]
  },
  {
   "cell_type": "code",
   "execution_count": null,
   "id": "d03f63ce",
   "metadata": {},
   "outputs": [],
   "source": [
    "## Naming convention\n",
    "## The variable must start with a letter ideally lowercase or underscore\n",
    "## The variable can contain letters, numbers, and underscores\n",
    "## The variable name should not contain spaces\n",
    "## The variable name should not start with a number\n",
    "## The variable name should not be a reserved keyword in Python\n",
    "## Python is case sensitive, so variable and Variable are different variables\n",
    "## It is a good practice to use lowercase letters for variable names and use underscores to separate words"
   ]
  },
  {
   "cell_type": "code",
   "execution_count": 59,
   "id": "cf0cfef7",
   "metadata": {},
   "outputs": [
    {
     "name": "stdout",
     "output_type": "stream",
     "text": [
      "Md Robin Jamal\n"
     ]
    }
   ],
   "source": [
    "first_name = \"Md Robin \"  # Note the space after Robin\n",
    "surname = \"Jamal\"\n",
    "print(first_name + surname)"
   ]
  },
  {
   "cell_type": "code",
   "execution_count": null,
   "id": "9b326ce8",
   "metadata": {},
   "outputs": [],
   "source": [
    "## Invalid variable names\n",
    "# 1st_name = \"Md Robin\"  # Invalid: starts with a number\n",
    "# first-name = \"Md Robin\"  # Invalid: contains a hyphen\n",
    "_myname = \"Md Robin\"  # Valid: starts with an underscore\n",
    "# first name = \"Md Robin\"  # Invalid: contains a space\n",
    "# @@first_name = \"Md Robin\"  # Invalid: contains special characters"
   ]
  },
  {
   "cell_type": "code",
   "execution_count": 63,
   "id": "aa1553c2",
   "metadata": {},
   "outputs": [],
   "source": [
    "name = \"Md Robin Jamal\" # string variable   \n",
    "age = 25 # integer variable\n",
    "height = 6.1 # float variable\n",
    "profession = \"Student\" # string variable\n",
    "country = \"Bangladesh\" # string variable\n",
    "is_student = True # boolean variable"
   ]
  },
  {
   "cell_type": "code",
   "execution_count": 70,
   "id": "4c124318",
   "metadata": {},
   "outputs": [
    {
     "name": "stdout",
     "output_type": "stream",
     "text": [
      "123\n",
      "456\n",
      "12\n",
      "78.0\n",
      "45.67\n",
      "89.01\n",
      "True\n",
      "True\n",
      "False\n",
      "False\n",
      "1\n",
      "0.0\n"
     ]
    }
   ],
   "source": [
    "## Type Conversion\n",
    "# Converting string to integer\n",
    "str_num = \"123\"\n",
    "int_num = int(str_num)\n",
    "print(int_num)  # Output: 123\n",
    "# Converting integer to string\n",
    "int_num = 456\n",
    "str_num = str(int_num)\n",
    "print(str_num)  # Output: \"456\"\n",
    "# Converting float to integer\n",
    "float_num = 12.34\n",
    "int_num = int(float_num)\n",
    "print(int_num)  # Output: 12\n",
    "# Converting integer to float\n",
    "int_num = 78\n",
    "float_num = float(int_num)\n",
    "print(float_num)  # Output: 78.0\n",
    "# Converting string to float\n",
    "str_num = \"45.67\"\n",
    "float_num = float(str_num)\n",
    "print(float_num)  # Output: 45.67\n",
    "# Converting float to string\n",
    "float_num = 89.01\n",
    "str_num = str(float_num)\n",
    "print(str_num)  # Output: \"89.01\"\n",
    "# Converting boolean to string\n",
    "bool_value = True\n",
    "str_value = str(bool_value)\n",
    "print(str_value)  # Output: \"True\"\n",
    "# Converting string to boolean\n",
    "str_value = \"False\"\n",
    "bool_value = bool(str_value)\n",
    "print(bool_value)  # Output: True (non-empty string is considered True)\n",
    "# Converting integer to boolean\n",
    "int_value = 0\n",
    "bool_value = bool(int_value)\n",
    "print(bool_value)  # Output: False (0 is considered False)\n",
    "# Converting float to boolean\n",
    "float_value = 0.0\n",
    "bool_value = bool(float_value)\n",
    "print(bool_value)  # Output: False (0.0 is considered False)\n",
    "# Converting boolean to integer\n",
    "bool_value = True\n",
    "int_value = int(bool_value)\n",
    "print(int_value)  # Output: 1 (True is considered 1)\n",
    "# Converting boolean to float\n",
    "bool_value = False\n",
    "float_value = float(bool_value)\n",
    "print(float_value)  # Output: 0.0 (False is considered 0.0)"
   ]
  },
  {
   "cell_type": "code",
   "execution_count": 79,
   "id": "bcf50ccb",
   "metadata": {},
   "outputs": [
    {
     "name": "stdout",
     "output_type": "stream",
     "text": [
      "70\n",
      "100\n",
      "200\n",
      "150\n",
      "300.0\n",
      "250.5\n",
      "500.25\n",
      "True\n",
      "True\n"
     ]
    }
   ],
   "source": [
    "str_case = \"70\"\n",
    "int_case = int(str_case)\n",
    "print(int_case)  # Output: 70\n",
    "# Converting string to integer\n",
    "str_case = \"100\"\n",
    "int_case = int(str_case)\n",
    "print(int_case)  # Output: 100\n",
    "#converting integer to string\n",
    "int_case = 200\n",
    "str_case = str(int_case)\n",
    "print(str_case)  # Output: \"200\"\n",
    "# Converting float to integer\n",
    "float_case = 150.75\n",
    "int_case = int(float_case)\n",
    "print(int_case)  # Output: 150\n",
    "# Converting integer to float\n",
    "int_case = 300\n",
    "float_case = float(int_case)\n",
    "print(float_case)  # Output: 300.0\n",
    "# Converting string to float\n",
    "str_case = \"250.50\"\n",
    "float_case = float(str_case)\n",
    "print(float_case)  # Output: 250.5\n",
    "# Converting float to string\n",
    "float_case = 500.25\n",
    "str_case = str(float_case)\n",
    "print(str_case)  # Output: \"500.25\"\n",
    "# Converting boolean to string\n",
    "bool_case = True\n",
    "str_case = str(bool_case)\n",
    "print(str_case)  # Output: \"True\"\n",
    "# Converting string to boolean\n",
    "str_case = \"False\"\n",
    "bool_case = bool(str_case)\n",
    "print(bool_case)  # Output: True (non-empty string is considered True)"
   ]
  },
  {
   "cell_type": "markdown",
   "id": "8a379738",
   "metadata": {},
   "source": [
    "## Dynamic Typing"
   ]
  },
  {
   "cell_type": "code",
   "execution_count": null,
   "id": "ace2ec97",
   "metadata": {},
   "outputs": [],
   "source": [
    "## Dynamic Typing\n",
    "# In Python, variables can change their type dynamically\n",
    "variable = 10\n",
    "print(type(variable))  # Output: <class 'int'>\n",
    "variable = \"Hello\"\n",
    "print(type(variable))  # Output: <class 'str'>\n",
    "variable = 3.14\n",
    "print(type(variable))  # Output: <class 'float'>\n",
    "variable = True\n",
    "print(type(variable))  # Output: <class 'bool'>"
   ]
  },
  {
   "cell_type": "code",
   "execution_count": 80,
   "id": "f325c955",
   "metadata": {},
   "outputs": [
    {
     "name": "stdout",
     "output_type": "stream",
     "text": [
      "Your name is: Md Robin Jamal\n",
      "Your age is: 25\n"
     ]
    }
   ],
   "source": [
    "## Input function\n",
    "# The input function allows you to take input from the user\n",
    "name = input(\"Enter your name: \")\n",
    "age = input(\"Enter your age: \")\n",
    "print(\"Your name is:\", name)\n",
    "print(\"Your age is:\", age)"
   ]
  },
  {
   "cell_type": "code",
   "execution_count": 85,
   "id": "9568b4ca",
   "metadata": {},
   "outputs": [
    {
     "name": "stdout",
     "output_type": "stream",
     "text": [
      "Result: 20.0\n"
     ]
    }
   ],
   "source": [
    "## Creating a simple calculator\n",
    "# This calculator performs basic arithmetic operations\n",
    "num1 = float(input(\"Enter first number: \"))\n",
    "num2 = float(input(\"Enter second number: \"))\n",
    "operation = input(\"Enter operation (+, -, *, /): \")\n",
    "if operation == '+':\n",
    "    result = num1 + num2\n",
    "elif operation == '-':\n",
    "    result = num1 - num2\n",
    "elif operation == '*':\n",
    "    result = num1 * num2\n",
    "elif operation == '/':\n",
    "    if num2 != 0:\n",
    "        result = num1 / num2\n",
    "    else:\n",
    "        result = \"Error: Division by zero\"\n",
    "else:\n",
    "    result = \"Error: Invalid operation\"\n",
    "print(\"Result:\", result)\n"
   ]
  },
  {
   "cell_type": "code",
   "execution_count": 86,
   "id": "fed763bc",
   "metadata": {},
   "outputs": [
    {
     "name": "stdout",
     "output_type": "stream",
     "text": [
      "Sum: 73.0\n",
      "Subtraction: 67.0\n",
      "Multiplication: 210.0\n",
      "Division: 23.333333333333332\n"
     ]
    }
   ],
   "source": [
    "## Creating a simple calculator\n",
    "num_1 = float(input(\"Enter your First Number: \"))\n",
    "num_2 = float(input(\"Enter your Second Number: \"))\n",
    "\n",
    "sum = num_1 + num_2\n",
    "subtraction = num_1 - num_2\n",
    "multiplication = num_1 * num_2\n",
    "division = num_1 / num_2 if num_2 != 0 else \"Cannot divide by zero\"\n",
    "print(\"Sum:\", sum)\n",
    "print(\"Subtraction:\", subtraction)  \n",
    "print(\"Multiplication:\", multiplication)\n",
    "print(\"Division:\", division)"
   ]
  },
  {
   "cell_type": "code",
   "execution_count": null,
   "id": "a5b8a8a0",
   "metadata": {},
   "outputs": [],
   "source": []
  },
  {
   "cell_type": "code",
   "execution_count": null,
   "id": "4db9f5d7",
   "metadata": {},
   "outputs": [],
   "source": []
  },
  {
   "cell_type": "code",
   "execution_count": null,
   "id": "3660b251",
   "metadata": {},
   "outputs": [],
   "source": []
  },
  {
   "cell_type": "code",
   "execution_count": null,
   "id": "30d397ec",
   "metadata": {},
   "outputs": [],
   "source": []
  },
  {
   "cell_type": "code",
   "execution_count": null,
   "id": "635d9c75",
   "metadata": {},
   "outputs": [],
   "source": []
  },
  {
   "cell_type": "code",
   "execution_count": null,
   "id": "8835204c",
   "metadata": {},
   "outputs": [],
   "source": []
  }
 ],
 "metadata": {
  "kernelspec": {
   "display_name": "Python 3",
   "language": "python",
   "name": "python3"
  },
  "language_info": {
   "codemirror_mode": {
    "name": "ipython",
    "version": 3
   },
   "file_extension": ".py",
   "mimetype": "text/x-python",
   "name": "python",
   "nbconvert_exporter": "python",
   "pygments_lexer": "ipython3",
   "version": "3.13.5"
  }
 },
 "nbformat": 4,
 "nbformat_minor": 5
}
